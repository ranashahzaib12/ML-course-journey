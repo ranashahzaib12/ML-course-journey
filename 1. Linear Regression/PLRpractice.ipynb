{
 "cells": [
  {
   "cell_type": "code",
   "execution_count": 1,
   "metadata": {},
   "outputs": [],
   "source": [
    "import pandas as pd \n",
    "import numpy as np \n",
    "import matplotlib.pyplot as plt \n",
    "import seaborn as sns "
   ]
  },
  {
   "cell_type": "code",
   "execution_count": 3,
   "metadata": {},
   "outputs": [
    {
     "data": {
      "text/plain": [
       "Text(0, 0.5, 'y label')"
      ]
     },
     "execution_count": 3,
     "metadata": {},
     "output_type": "execute_result"
    },
    {
     "data": {
      "image/png": "[encoded data removed]",
      "text/plain": [
       "<Figure size 640x480 with 1 Axes>"
      ]
     },
     "metadata": {},
     "output_type": "display_data"
    }
   ],
   "source": [
    "x= 6 * np.random.rand(100,1) - 3\n",
    "y = 0.5 + x**2 + 1.5*x +2 + np.random.rand(100,1)\n",
    "\n",
    "#quadratic ewuation used y = 0.5x^2 +1.5x+2+outliers\n",
    "plt.scatter(x,y,color = 'g')\n",
    "plt.xlabel('x dataset')\n",
    "plt.ylabel('y label')"
   ]
  },
  {
   "cell_type": "code",
   "execution_count": 9,
   "metadata": {},
   "outputs": [],
   "source": [
    "from sklearn.preprocessing import PolynomialFeatures"
   ]
  },
  {
   "cell_type": "code",
   "execution_count": 6,
   "metadata": {},
   "outputs": [],
   "source": [
    "from sklearn.model_selection import train_test_split"
   ]
  },
  {
   "cell_type": "code",
   "execution_count": 7,
   "metadata": {},
   "outputs": [],
   "source": [
    "x_train,x_test,y_train,y_test = train_test_split(x,y,test_size=0.25,random_state=1)"
   ]
  },
  {
   "cell_type": "code",
   "execution_count": 11,
   "metadata": {},
   "outputs": [],
   "source": [
    "poly= PolynomialFeatures(degree=2 , include_bias = True)\n",
    "x_train_poly = poly.fit_transform(x_train)\n",
    "x_test_poly = poly.transform(x_test) "
   ]
  },
  {
   "cell_type": "code",
   "execution_count": null,
   "metadata": {},
   "outputs": [
    {
     "data": {
      "text/plain": [
       "array([[ 1.00000000e+00, -1.64227301e+00,  2.69706065e+00],\n",
       "       [ 1.00000000e+00, -2.83406710e-01,  8.03193634e-02],\n",
       "       [ 1.00000000e+00, -7.53688897e-01,  5.68046954e-01],\n",
       "       [ 1.00000000e+00, -1.32502594e+00,  1.75569373e+00],\n",
       "       [ 1.00000000e+00, -3.86267806e-01,  1.49202818e-01],\n",
       "       [ 1.00000000e+00,  1.45304391e-01,  2.11133659e-02],\n",
       "       [ 1.00000000e+00, -8.58392109e-01,  7.36837013e-01],\n",
       "       [ 1.00000000e+00,  2.05010985e-01,  4.20295040e-02],\n",
       "       [ 1.00000000e+00,  1.40099337e+00,  1.96278243e+00],\n",
       "       [ 1.00000000e+00, -2.51756960e+00,  6.33815670e+00],\n",
       "       [ 1.00000000e+00, -2.73016627e+00,  7.45380786e+00],\n",
       "       [ 1.00000000e+00, -2.61188631e+00,  6.82195007e+00],\n",
       "       [ 1.00000000e+00,  2.32845933e+00,  5.42172284e+00],\n",
       "       [ 1.00000000e+00,  2.53320481e+00,  6.41712663e+00],\n",
       "       [ 1.00000000e+00,  1.70329748e+00,  2.90122231e+00],\n",
       "       [ 1.00000000e+00, -9.43770726e-01,  8.90703183e-01],\n",
       "       [ 1.00000000e+00, -1.89759112e+00,  3.60085208e+00],\n",
       "       [ 1.00000000e+00, -2.01137015e+00,  4.04560986e+00],\n",
       "       [ 1.00000000e+00,  3.36135670e-01,  1.12987189e-01],\n",
       "       [ 1.00000000e+00, -1.36922472e+00,  1.87477632e+00],\n",
       "       [ 1.00000000e+00,  8.96219335e-01,  8.03209096e-01],\n",
       "       [ 1.00000000e+00, -1.44140682e+00,  2.07765362e+00],\n",
       "       [ 1.00000000e+00, -2.22863752e+00,  4.96682519e+00],\n",
       "       [ 1.00000000e+00,  1.54871131e+00,  2.39850673e+00],\n",
       "       [ 1.00000000e+00,  8.64076838e-01,  7.46628781e-01],\n",
       "       [ 1.00000000e+00,  2.77593077e+00,  7.70579162e+00],\n",
       "       [ 1.00000000e+00,  7.07719294e-01,  5.00866598e-01],\n",
       "       [ 1.00000000e+00, -4.79200575e-01,  2.29633191e-01],\n",
       "       [ 1.00000000e+00, -9.83705478e-01,  9.67676468e-01],\n",
       "       [ 1.00000000e+00,  2.40166773e+00,  5.76800787e+00],\n",
       "       [ 1.00000000e+00,  9.37508486e-01,  8.78922161e-01],\n",
       "       [ 1.00000000e+00,  8.03340608e-01,  6.45356133e-01],\n",
       "       [ 1.00000000e+00,  1.95712786e+00,  3.83034945e+00],\n",
       "       [ 1.00000000e+00,  2.40610465e+00,  5.78933960e+00],\n",
       "       [ 1.00000000e+00, -9.16920870e-01,  8.40743881e-01],\n",
       "       [ 1.00000000e+00, -1.99968159e+00,  3.99872644e+00],\n",
       "       [ 1.00000000e+00, -2.98185274e+00,  8.89144574e+00],\n",
       "       [ 1.00000000e+00, -1.69731520e+00,  2.88087890e+00],\n",
       "       [ 1.00000000e+00, -2.91907637e+00,  8.52100686e+00],\n",
       "       [ 1.00000000e+00,  1.58193397e+00,  2.50251508e+00],\n",
       "       [ 1.00000000e+00,  2.39441743e+00,  5.73323484e+00],\n",
       "       [ 1.00000000e+00, -1.46435662e+00,  2.14434031e+00],\n",
       "       [ 1.00000000e+00,  1.16612074e+00,  1.35983757e+00],\n",
       "       [ 1.00000000e+00,  8.53463759e-01,  7.28400389e-01],\n",
       "       [ 1.00000000e+00,  5.50742667e-01,  3.03317485e-01],\n",
       "       [ 1.00000000e+00,  1.27356925e+00,  1.62197863e+00],\n",
       "       [ 1.00000000e+00,  1.11352844e+00,  1.23994558e+00],\n",
       "       [ 1.00000000e+00,  1.37217437e+00,  1.88286249e+00],\n",
       "       [ 1.00000000e+00,  7.12674300e-01,  5.07904658e-01],\n",
       "       [ 1.00000000e+00, -9.96976665e-01,  9.93962470e-01],\n",
       "       [ 1.00000000e+00,  9.43330101e-01,  8.89871680e-01],\n",
       "       [ 1.00000000e+00, -2.88799166e+00,  8.34049584e+00],\n",
       "       [ 1.00000000e+00,  4.41047666e-02,  1.94523044e-03],\n",
       "       [ 1.00000000e+00, -3.84449880e-02,  1.47801710e-03],\n",
       "       [ 1.00000000e+00,  1.19341606e+00,  1.42424189e+00],\n",
       "       [ 1.00000000e+00, -1.98540181e+00,  3.94182035e+00],\n",
       "       [ 1.00000000e+00,  1.75414632e+00,  3.07702930e+00],\n",
       "       [ 1.00000000e+00, -2.51632517e+00,  6.33189237e+00],\n",
       "       [ 1.00000000e+00, -5.22206049e-02,  2.72699157e-03],\n",
       "       [ 1.00000000e+00,  2.28137843e+00,  5.20468753e+00],\n",
       "       [ 1.00000000e+00, -1.65083007e+00,  2.72523993e+00],\n",
       "       [ 1.00000000e+00, -1.88933209e+00,  3.56957573e+00],\n",
       "       [ 1.00000000e+00,  1.71582981e+00,  2.94407195e+00],\n",
       "       [ 1.00000000e+00,  1.78785645e+00,  3.19643067e+00],\n",
       "       [ 1.00000000e+00,  1.55727980e+00,  2.42512038e+00],\n",
       "       [ 1.00000000e+00,  3.22078869e-01,  1.03734798e-01],\n",
       "       [ 1.00000000e+00, -2.93989957e+00,  8.64300950e+00],\n",
       "       [ 1.00000000e+00, -1.98525976e+00,  3.94125631e+00],\n",
       "       [ 1.00000000e+00,  1.97962021e+00,  3.91889616e+00],\n",
       "       [ 1.00000000e+00,  2.24902946e+00,  5.05813353e+00],\n",
       "       [ 1.00000000e+00, -2.44153472e+00,  5.96109177e+00],\n",
       "       [ 1.00000000e+00,  2.04760001e+00,  4.19266579e+00],\n",
       "       [ 1.00000000e+00,  1.65938582e-01,  2.75356129e-02],\n",
       "       [ 1.00000000e+00,  4.48699909e-01,  2.01331608e-01],\n",
       "       [ 1.00000000e+00,  2.88138404e+00,  8.30237399e+00]])"
      ]
     },
     "execution_count": 12,
     "metadata": {},
     "output_type": "execute_result"
    }
   ],
   "source": [
    "x_train_poly \n",
    "#   1           x1          x1^2"
   ]
  },
  {
   "cell_type": "code",
   "execution_count": 14,
   "metadata": {},
   "outputs": [],
   "source": [
    "from sklearn.linear_model import LinearRegression\n",
    "regression =LinearRegression() "
   ]
  },
  {
   "cell_type": "code",
   "execution_count": null,
   "metadata": {},
   "outputs": [
    {
     "ename": "NotFittedError",
     "evalue": "This LinearRegression instance is not fitted yet. Call 'fit' with appropriate arguments before using this estimator.",
     "output_type": "error",
     "traceback": [
      "\u001b[1;31m---------------------------------------------------------------------------\u001b[0m",
      "\u001b[1;31mNotFittedError\u001b[0m                            Traceback (most recent call last)",
      "Cell \u001b[1;32mIn[24], line 1\u001b[0m\n\u001b[1;32m----> 1\u001b[0m plt\u001b[38;5;241m.\u001b[39mscatter(x_train,\u001b[43mregression\u001b[49m\u001b[38;5;241;43m.\u001b[39;49m\u001b[43mpredict\u001b[49m\u001b[43m(\u001b[49m\u001b[43mx_train_poly\u001b[49m\u001b[43m)\u001b[49m)\n",
      "File \u001b[1;32mc:\\Users\\Track Computers\\AppData\\Local\\Programs\\Python\\Python312\\Lib\\site-packages\\sklearn\\linear_model\\_base.py:306\u001b[0m, in \u001b[0;36mLinearModel.predict\u001b[1;34m(self, X)\u001b[0m\n\u001b[0;32m    292\u001b[0m \u001b[38;5;28;01mdef\u001b[39;00m \u001b[38;5;21mpredict\u001b[39m(\u001b[38;5;28mself\u001b[39m, X):\n\u001b[0;32m    293\u001b[0m \u001b[38;5;250m    \u001b[39m\u001b[38;5;124;03m\"\"\"\u001b[39;00m\n\u001b[0;32m    294\u001b[0m \u001b[38;5;124;03m    Predict using the linear model.\u001b[39;00m\n\u001b[0;32m    295\u001b[0m \n\u001b[1;32m   (...)\u001b[0m\n\u001b[0;32m    304\u001b[0m \u001b[38;5;124;03m        Returns predicted values.\u001b[39;00m\n\u001b[0;32m    305\u001b[0m \u001b[38;5;124;03m    \"\"\"\u001b[39;00m\n\u001b[1;32m--> 306\u001b[0m     \u001b[38;5;28;01mreturn\u001b[39;00m \u001b[38;5;28;43mself\u001b[39;49m\u001b[38;5;241;43m.\u001b[39;49m\u001b[43m_decision_function\u001b[49m\u001b[43m(\u001b[49m\u001b[43mX\u001b[49m\u001b[43m)\u001b[49m\n",
      "File \u001b[1;32mc:\\Users\\Track Computers\\AppData\\Local\\Programs\\Python\\Python312\\Lib\\site-packages\\sklearn\\linear_model\\_base.py:283\u001b[0m, in \u001b[0;36mLinearModel._decision_function\u001b[1;34m(self, X)\u001b[0m\n\u001b[0;32m    282\u001b[0m \u001b[38;5;28;01mdef\u001b[39;00m \u001b[38;5;21m_decision_function\u001b[39m(\u001b[38;5;28mself\u001b[39m, X):\n\u001b[1;32m--> 283\u001b[0m     \u001b[43mcheck_is_fitted\u001b[49m\u001b[43m(\u001b[49m\u001b[38;5;28;43mself\u001b[39;49m\u001b[43m)\u001b[49m\n\u001b[0;32m    285\u001b[0m     X \u001b[38;5;241m=\u001b[39m \u001b[38;5;28mself\u001b[39m\u001b[38;5;241m.\u001b[39m_validate_data(X, accept_sparse\u001b[38;5;241m=\u001b[39m[\u001b[38;5;124m\"\u001b[39m\u001b[38;5;124mcsr\u001b[39m\u001b[38;5;124m\"\u001b[39m, \u001b[38;5;124m\"\u001b[39m\u001b[38;5;124mcsc\u001b[39m\u001b[38;5;124m\"\u001b[39m, \u001b[38;5;124m\"\u001b[39m\u001b[38;5;124mcoo\u001b[39m\u001b[38;5;124m\"\u001b[39m], reset\u001b[38;5;241m=\u001b[39m\u001b[38;5;28;01mFalse\u001b[39;00m)\n\u001b[0;32m    286\u001b[0m     coef_ \u001b[38;5;241m=\u001b[39m \u001b[38;5;28mself\u001b[39m\u001b[38;5;241m.\u001b[39mcoef_\n",
      "File \u001b[1;32mc:\\Users\\Track Computers\\AppData\\Local\\Programs\\Python\\Python312\\Lib\\site-packages\\sklearn\\utils\\validation.py:1661\u001b[0m, in \u001b[0;36mcheck_is_fitted\u001b[1;34m(estimator, attributes, msg, all_or_any)\u001b[0m\n\u001b[0;32m   1658\u001b[0m     \u001b[38;5;28;01mraise\u001b[39;00m \u001b[38;5;167;01mTypeError\u001b[39;00m(\u001b[38;5;124m\"\u001b[39m\u001b[38;5;132;01m%s\u001b[39;00m\u001b[38;5;124m is not an estimator instance.\u001b[39m\u001b[38;5;124m\"\u001b[39m \u001b[38;5;241m%\u001b[39m (estimator))\n\u001b[0;32m   1660\u001b[0m \u001b[38;5;28;01mif\u001b[39;00m \u001b[38;5;129;01mnot\u001b[39;00m _is_fitted(estimator, attributes, all_or_any):\n\u001b[1;32m-> 1661\u001b[0m     \u001b[38;5;28;01mraise\u001b[39;00m NotFittedError(msg \u001b[38;5;241m%\u001b[39m {\u001b[38;5;124m\"\u001b[39m\u001b[38;5;124mname\u001b[39m\u001b[38;5;124m\"\u001b[39m: \u001b[38;5;28mtype\u001b[39m(estimator)\u001b[38;5;241m.\u001b[39m\u001b[38;5;18m__name__\u001b[39m})\n",
      "\u001b[1;31mNotFittedError\u001b[0m: This LinearRegression instance is not fitted yet. Call 'fit' with appropriate arguments before using this estimator."
     ]
    }
   ],
   "source": [
    "plt.scatter(x_train,regression.predict(x_train_poly)) "
   ]
  }
 ],
 "metadata": {
  "kernelspec": {
   "display_name": "Python 3",
   "language": "python",
   "name": "python3"
  },
  "language_info": {
   "codemirror_mode": {
    "name": "ipython",
    "version": 3
   },
   "file_extension": ".py",
   "mimetype": "text/x-python",
   "name": "python",
   "nbconvert_exporter": "python",
   "pygments_lexer": "ipython3",
   "version": "3.12.5"
  }
 },
 "nbformat": 4,
 "nbformat_minor": 2
}
